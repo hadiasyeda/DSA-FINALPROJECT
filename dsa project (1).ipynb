{
 "cells": [
  {
   "cell_type": "code",
   "execution_count": 35,
   "id": "4dd91c9f-5b2c-4227-9621-80aa05082e41",
   "metadata": {},
   "outputs": [],
   "source": [
    "#  Patient Class\n",
    "\n",
    "class Patient:\n",
    "    def __init__(self, patient_id, name, age, disease):\n",
    "        self.patient_id = patient_id\n",
    "        self.name = name\n",
    "        self.age = age\n",
    "        self.disease = disease\n",
    "\n",
    "    def __str__(self):\n",
    "        return f\"[Patient] ID: {self.patient_id}, Name: {self.name}, Age: {self.age}, Disease: {self.disease}\"\n",
    "\n",
    "# Doctor Class\n",
    "\n",
    "class Doctor:\n",
    "    def __init__(self, doctor_id, name, specialization):\n",
    "        self.doctor_id = doctor_id\n",
    "        self.name = name\n",
    "        self.specialization = specialization\n",
    "\n",
    "    def __str__(self):\n",
    "        return f\"[Doctor] ID: {self.doctor_id}, Name: {self.name}, Specialization: {self.specialization}\"\n"
   ]
  },
  {
   "cell_type": "code",
   "execution_count": 37,
   "id": "cdfd9b4f-08d5-4768-8882-e1c1639834bc",
   "metadata": {},
   "outputs": [],
   "source": [
    "\n",
    "\n",
    "patients = []  \n",
    "doctors = []   \n",
    "\n",
    "\n",
    "def add_patient(patient_id, name, age, disease):\n",
    "    new_patient = Patient(patient_id, name, age, disease)\n",
    "    patients.append(new_patient)\n",
    "    print(f\"Patient {name} added successfully.\")\n",
    "\n",
    "\n",
    "def add_doctor(doctor_id, name, specialization):\n",
    "    new_doctor = Doctor(doctor_id, name, specialization)\n",
    "    doctors.append(new_doctor)\n",
    "    print(f\"Doctor {name} added successfully.\")\n",
    "\n",
    "\n",
    "def view_patients():\n",
    "    if not patients:\n",
    "        print(\"No patients found.\")\n",
    "    for p in patients:\n",
    "        print(p)\n",
    "\n",
    "\n",
    "def view_doctors():\n",
    "    if not doctors:\n",
    "        print(\"No doctors found.\")\n",
    "    for d in doctors:\n",
    "        print(d)\n"
   ]
  },
  {
   "cell_type": "code",
   "execution_count": 39,
   "id": "2f7f2e67-ef5f-4340-bb70-b058b0b43607",
   "metadata": {},
   "outputs": [],
   "source": [
    "#testing the code"
   ]
  },
  {
   "cell_type": "code",
   "execution_count": 41,
   "id": "84d59366-66e7-438f-9901-aec3b21128ad",
   "metadata": {},
   "outputs": [
    {
     "name": "stdout",
     "output_type": "stream",
     "text": [
      "Patient Ali Raza added successfully.\n",
      "Patient Hadia Batool added successfully.\n",
      "Doctor Dr. Amna added successfully.\n",
      "Doctor Dr. Asim added successfully.\n",
      "\n",
      "--- All Patients ---\n",
      "[Patient] ID: P101, Name: Ali Raza, Age: 30, Disease: Flu\n",
      "[Patient] ID: P102, Name: Hadia Batool, Age: 22, Disease: Migraine\n",
      "\n",
      "--- All Doctors ---\n",
      "[Doctor] ID: D001, Name: Dr. Amna, Specialization: Neurology\n",
      "[Doctor] ID: D002, Name: Dr. Asim, Specialization: General\n"
     ]
    }
   ],
   "source": [
    "\n",
    "add_patient(\"P101\", \"Ali Raza\", 30, \"Flu\")\n",
    "add_patient(\"P102\", \"Hadia Batool\", 22, \"Migraine\")\n",
    "\n",
    "add_doctor(\"D001\", \"Dr. Amna\", \"Neurology\")\n",
    "add_doctor(\"D002\", \"Dr. Asim\", \"General\")\n",
    "\n",
    "print(\"\\n--- All Patients ---\")\n",
    "view_patients()\n",
    "\n",
    "print(\"\\n--- All Doctors ---\")\n",
    "view_doctors()"
   ]
  },
  {
   "cell_type": "code",
   "execution_count": 43,
   "id": "63bbf331-a834-4225-887e-34ff871da9e7",
   "metadata": {},
   "outputs": [],
   "source": [
    "\n",
    "def search_patient_by_id(patient_id):\n",
    "    for patient in patients:\n",
    "        if patient.patient_id == patient_id:\n",
    "            return patient\n",
    "    return None\n",
    "\n",
    "\n",
    "def search_doctor_by_id(doctor_id):\n",
    "    for doctor in doctors:\n",
    "        if doctor.doctor_id == doctor_id:\n",
    "            return doctor\n",
    "    return None\n",
    "\n",
    "\n",
    "def delete_patient_by_id(patient_id):\n",
    "    for i in range(len(patients)):\n",
    "        if patients[i].patient_id == patient_id:\n",
    "            del patients[i]\n",
    "            print(f\"Patient with ID {patient_id} deleted.\")\n",
    "            return\n",
    "    print(\"Patient not found.\")\n",
    "\n",
    "\n",
    "def delete_doctor_by_id(doctor_id):\n",
    "    for i in range(len(doctors)):\n",
    "        if doctors[i].doctor_id == doctor_id:\n",
    "            del doctors[i]\n",
    "            print(f\"Doctor with ID {doctor_id} deleted.\")\n",
    "            return\n",
    "    print(\"Doctor not found.\")\n"
   ]
  },
  {
   "cell_type": "code",
   "execution_count": 45,
   "id": "7eb94128-afff-43ff-a291-ac08bb02f8fe",
   "metadata": {},
   "outputs": [
    {
     "name": "stdout",
     "output_type": "stream",
     "text": [
      "Found Patient: [Patient] ID: P101, Name: Ali Raza, Age: 30, Disease: Flu\n",
      "Patient with ID P101 deleted.\n",
      "[Patient] ID: P102, Name: Hadia Batool, Age: 22, Disease: Migraine\n",
      "Doctor with ID D001 deleted.\n",
      "[Doctor] ID: D002, Name: Dr. Asim, Specialization: General\n"
     ]
    }
   ],
   "source": [
    "# Search Test\n",
    "found = search_patient_by_id(\"P101\")\n",
    "print(\"Found Patient:\" if found else \"Not Found\", found)\n",
    "\n",
    "# Delete Test\n",
    "delete_patient_by_id(\"P101\")  # Should delete Ali Raza\n",
    "view_patients()\n",
    "\n",
    "delete_doctor_by_id(\"D001\")   # Should delete Dr. Amna\n",
    "view_doctors()"
   ]
  },
  {
   "cell_type": "code",
   "execution_count": 47,
   "id": "859ba824-1fc7-4f22-a6e0-60995c156db2",
   "metadata": {},
   "outputs": [],
   "source": [
    "\n",
    "from collections import deque\n",
    "\n",
    "\n",
    "appointment_queue = deque()\n",
    "\n",
    "\n",
    "def schedule_appointment(patient_id):\n",
    "    patient = search_patient_by_id(patient_id)\n",
    "    if patient:\n",
    "        appointment_queue.append(patient)\n",
    "        print(f\"Appointment scheduled for {patient.name}\")\n",
    "    else:\n",
    "        print(\"Patient not found.\")\n",
    "\n",
    "\n",
    "def view_appointments():\n",
    "    if not appointment_queue:\n",
    "        print(\"No appointments scheduled.\")\n",
    "        return\n",
    "\n",
    "    print(\"\\n--- Appointment Queue ---\")\n",
    "    for i, patient in enumerate(appointment_queue):\n",
    "        print(f\"{i+1}. {patient.name} (ID: {patient.patient_id})\")\n",
    "\n",
    "\n",
    "def serve_appointment():\n",
    "    if appointment_queue:\n",
    "        patient = appointment_queue.popleft()\n",
    "        print(f\"Serving patient: {patient.name}\")\n",
    "    else:\n",
    "        print(\"No patients in queue.\")\n"
   ]
  },
  {
   "cell_type": "code",
   "execution_count": 49,
   "id": "0d4830a3-13eb-4a61-a1eb-02547d1c12e3",
   "metadata": {},
   "outputs": [
    {
     "name": "stdout",
     "output_type": "stream",
     "text": [
      "Patient Sara Khan added successfully.\n",
      "Appointment scheduled for Sara Khan\n",
      "\n",
      "--- Appointment Queue ---\n",
      "1. Sara Khan (ID: P201)\n",
      "Serving patient: Sara Khan\n",
      "No appointments scheduled.\n"
     ]
    }
   ],
   "source": [
    "\n",
    "add_patient(\"P201\", \"Sara Khan\", 27, \"Fever\")\n",
    "\n",
    "\n",
    "schedule_appointment(\"P201\")\n",
    "view_appointments()\n",
    "\n",
    "\n",
    "serve_appointment()\n",
    "view_appointments()\n"
   ]
  },
  {
   "cell_type": "code",
   "execution_count": 51,
   "id": "a3f15170-47d6-489c-a0a0-bb640892c139",
   "metadata": {},
   "outputs": [],
   "source": [
    "\n",
    "def bubble_sort_patients_by_age():\n",
    "    n = len(patients)\n",
    "    for i in range(n):\n",
    "        for j in range(0, n - i - 1):\n",
    "            if patients[j].age > patients[j + 1].age:\n",
    "                patients[j], patients[j + 1] = patients[j + 1], patients[j]\n",
    "    print(\"Patients sorted by age.\")\n",
    "\n",
    "def bubble_sort_patients_by_name():\n",
    "    n = len(patients)\n",
    "    for i in range(n):\n",
    "        for j in range(0, n - i - 1):\n",
    "            if patients[j].name.lower() > patients[j + 1].name.lower():\n",
    "                patients[j], patients[j + 1] = patients[j + 1], patients[j]\n",
    "    print(\"Patients sorted by name.\")\n"
   ]
  },
  {
   "cell_type": "code",
   "execution_count": 53,
   "id": "4ea6be39-1f6d-4cc8-a4fc-792339ea33f6",
   "metadata": {},
   "outputs": [
    {
     "name": "stdout",
     "output_type": "stream",
     "text": [
      "Patient Zainab added successfully.\n",
      "Patient Bilal added successfully.\n",
      "Patient Adeel added successfully.\n",
      "\n",
      "--- Before Sorting ---\n",
      "[Patient] ID: P102, Name: Hadia Batool, Age: 22, Disease: Migraine\n",
      "[Patient] ID: P201, Name: Sara Khan, Age: 27, Disease: Fever\n",
      "[Patient] ID: P301, Name: Zainab, Age: 19, Disease: Allergy\n",
      "[Patient] ID: P302, Name: Bilal, Age: 35, Disease: Infection\n",
      "[Patient] ID: P303, Name: Adeel, Age: 28, Disease: Cough\n",
      "Patients sorted by age.\n",
      "\n",
      "--- After Sorting by Age ---\n",
      "[Patient] ID: P301, Name: Zainab, Age: 19, Disease: Allergy\n",
      "[Patient] ID: P102, Name: Hadia Batool, Age: 22, Disease: Migraine\n",
      "[Patient] ID: P201, Name: Sara Khan, Age: 27, Disease: Fever\n",
      "[Patient] ID: P303, Name: Adeel, Age: 28, Disease: Cough\n",
      "[Patient] ID: P302, Name: Bilal, Age: 35, Disease: Infection\n",
      "Patients sorted by name.\n",
      "\n",
      "--- After Sorting by Name ---\n",
      "[Patient] ID: P303, Name: Adeel, Age: 28, Disease: Cough\n",
      "[Patient] ID: P302, Name: Bilal, Age: 35, Disease: Infection\n",
      "[Patient] ID: P102, Name: Hadia Batool, Age: 22, Disease: Migraine\n",
      "[Patient] ID: P201, Name: Sara Khan, Age: 27, Disease: Fever\n",
      "[Patient] ID: P301, Name: Zainab, Age: 19, Disease: Allergy\n"
     ]
    }
   ],
   "source": [
    "# Adding more test patients\n",
    "add_patient(\"P301\", \"Zainab\", 19, \"Allergy\")\n",
    "add_patient(\"P302\", \"Bilal\", 35, \"Infection\")\n",
    "add_patient(\"P303\", \"Adeel\", 28, \"Cough\")\n",
    "\n",
    "print(\"\\n--- Before Sorting ---\")\n",
    "view_patients()\n",
    "\n",
    "bubble_sort_patients_by_age()\n",
    "print(\"\\n--- After Sorting by Age ---\")\n",
    "view_patients()\n",
    "\n",
    "bubble_sort_patients_by_name()\n",
    "print(\"\\n--- After Sorting by Name ---\")\n",
    "view_patients()\n"
   ]
  },
  {
   "cell_type": "code",
   "execution_count": 55,
   "id": "740887b6-ca72-449b-af69-16fc0834b838",
   "metadata": {},
   "outputs": [],
   "source": [
    "\n",
    "def binary_search_patient_by_name(name):\n",
    "    # Ensure patients are sorted by name before searching\n",
    "    bubble_sort_patients_by_name()\n",
    "\n",
    "    low = 0\n",
    "    high = len(patients) - 1\n",
    "\n",
    "    while low <= high:\n",
    "        mid = (low + high) // 2\n",
    "        mid_name = patients[mid].name.lower()\n",
    "\n",
    "        if mid_name == name.lower():\n",
    "            return patients[mid]\n",
    "        elif mid_name < name.lower():\n",
    "            low = mid + 1\n",
    "        else:\n",
    "            high = mid - 1\n",
    "\n",
    "    return None\n"
   ]
  },
  {
   "cell_type": "code",
   "execution_count": 57,
   "id": "f02272bb-d0a7-4f60-9035-affe44673623",
   "metadata": {},
   "outputs": [
    {
     "name": "stdout",
     "output_type": "stream",
     "text": [
      "Patients sorted by name.\n",
      "Found: [Patient] ID: P301, Name: Zainab, Age: 19, Disease: Allergy\n",
      "Patients sorted by name.\n",
      "Patient not found.\n"
     ]
    }
   ],
   "source": [
    "\n",
    "result = binary_search_patient_by_name(\"Zainab\")\n",
    "if result:\n",
    "    print(\"Found:\", result)\n",
    "else:\n",
    "    print(\"Patient not found.\")\n",
    "\n",
    " \n",
    "result = binary_search_patient_by_name(\"John\")\n",
    "if result:\n",
    "    print(\"Found:\", result)\n",
    "else:\n",
    "    print(\"Patient not found.\")\n"
   ]
  },
  {
   "cell_type": "code",
   "execution_count": 69,
   "id": "b3130a94-7cce-4071-ae49-18de18a61d5c",
   "metadata": {},
   "outputs": [],
   "source": [
    "class MedicalRecordNode:\n",
    "    def __init__(self, date, description):\n",
    "        self.date = date\n",
    "        self.description = description\n",
    "        self.next = None\n",
    "\n",
    "class Patient:\n",
    "    def __init__(self, patient_id, name, age, disease):\n",
    "        self.patient_id = patient_id\n",
    "        self.name = name\n",
    "        self.age = age\n",
    "        self.disease = disease\n",
    "        self.history_head = None  \n",
    "\n",
    "    def __str__(self):\n",
    "        return f\"[Patient] ID: {self.patient_id}, Name: {self.name}, Age: {self.age}, Disease: {self.disease}\"\n",
    "\n",
    "    def add_medical_record(self, date, description):\n",
    "        new_record = MedicalRecordNode(date, description)\n",
    "        if not self.history_head:\n",
    "            self.history_head = new_record\n",
    "        else:\n",
    "            current = self.history_head\n",
    "            while current.next:\n",
    "                current = current.next\n",
    "            current.next = new_record\n",
    "        print(f\"Added medical record for {self.name}\")\n",
    "\n",
    "    def view_medical_history(self):\n",
    "        if not self.history_head:\n",
    "            print(\"No medical history found.\")\n",
    "            return\n",
    "        current = self.history_head\n",
    "        print(f\"\\nMedical History for {self.name}:\")\n",
    "        while current:\n",
    "            print(f\"- {current.date}: {current.description}\")\n",
    "            current = current.next\n"
   ]
  },
  {
   "cell_type": "code",
   "execution_count": 71,
   "id": "ced18bda-a5a9-4ec7-a4aa-7377248f73c3",
   "metadata": {},
   "outputs": [
    {
     "name": "stdout",
     "output_type": "stream",
     "text": [
      "Patient Adeel added successfully.\n",
      "Patient Maria added successfully.\n"
     ]
    }
   ],
   "source": [
    "\n",
    "patients = []\n",
    "\n",
    "add_patient(\"P303\", \"Adeel\", 28, \"Cough\")\n",
    "add_patient(\"P304\", \"Maria\", 24, \"Diabetes\")\n"
   ]
  },
  {
   "cell_type": "code",
   "execution_count": 73,
   "id": "e2089212-c57d-4bad-acbb-ca46f5ae1896",
   "metadata": {},
   "outputs": [
    {
     "name": "stdout",
     "output_type": "stream",
     "text": [
      "Added medical record for Adeel\n",
      "Added medical record for Adeel\n",
      "\n",
      "Medical History for Adeel:\n",
      "- 2023-01-12: Flu treatment\n",
      "- 2023-03-22: Routine check-up\n"
     ]
    }
   ],
   "source": [
    "patient = search_patient_by_id(\"P303\")\n",
    "if patient:\n",
    "    patient.add_medical_record(\"2023-01-12\", \"Flu treatment\")\n",
    "    patient.add_medical_record(\"2023-03-22\", \"Routine check-up\")\n",
    "    patient.view_medical_history()\n"
   ]
  },
  {
   "cell_type": "code",
   "execution_count": 75,
   "id": "c09ddccc-cbd1-41b8-9191-637af46228df",
   "metadata": {},
   "outputs": [],
   "source": [
    "def main_menu():\n",
    "    while True:\n",
    "        print(\"\\n--- Hospital Management System ---\")\n",
    "        print(\"1. Add Patient\")\n",
    "        print(\"2. View All Patients\")\n",
    "        print(\"3. Search Patient by ID\")\n",
    "        print(\"4. Sort Patients by Age\")\n",
    "        print(\"5. Sort Patients by Name\")\n",
    "        print(\"6. Binary Search Patient by Name\")\n",
    "        print(\"7. Add Medical Record\")\n",
    "        print(\"8. View Medical History\")\n",
    "        print(\"9. Exit\")\n",
    "\n",
    "        choice = input(\"Enter your choice (1-9): \")\n",
    "\n",
    "        if choice == \"1\":\n",
    "            pid = input(\"Enter Patient ID: \")\n",
    "            name = input(\"Enter Name: \")\n",
    "            age = int(input(\"Enter Age: \"))\n",
    "            disease = input(\"Enter Disease: \")\n",
    "            add_patient(pid, name, age, disease)\n",
    "\n",
    "        elif choice == \"2\":\n",
    "            view_patients()\n",
    "\n",
    "        elif choice == \"3\":\n",
    "            pid = input(\"Enter Patient ID to search: \")\n",
    "            patient = search_patient_by_id(pid)\n",
    "            if patient:\n",
    "                print(\"Found:\", patient)\n",
    "            else:\n",
    "                print(\"Patient not found.\")\n",
    "\n",
    "        elif choice == \"4\":\n",
    "            bubble_sort_patients_by_age()\n",
    "            print(\"Sorted by age.\")\n",
    "\n",
    "        elif choice == \"5\":\n",
    "            bubble_sort_patients_by_name()\n",
    "            print(\"Sorted by name.\")\n",
    "\n",
    "        elif choice == \"6\":\n",
    "            name = input(\"Enter Patient Name to search: \")\n",
    "            result = binary_search_patient_by_name(name)\n",
    "            if result:\n",
    "                print(\"Found:\", result)\n",
    "            else:\n",
    "                print(\"Patient not found.\")\n",
    "\n",
    "        elif choice == \"7\":\n",
    "            pid = input(\"Enter Patient ID to add medical record: \")\n",
    "            patient = search_patient_by_id(pid)\n",
    "            if patient:\n",
    "                date = input(\"Enter Date (YYYY-MM-DD): \")\n",
    "                desc = input(\"Enter Description: \")\n",
    "                patient.add_medical_record(date, desc)\n",
    "            else:\n",
    "                print(\"Patient not found.\")\n",
    "\n",
    "        elif choice == \"8\":\n",
    "            pid = input(\"Enter Patient ID to view medical history: \")\n",
    "            patient = search_patient_by_id(pid)\n",
    "            if patient:\n",
    "                patient.view_medical_history()\n",
    "            else:\n",
    "                print(\"Patient not found.\")\n",
    "\n",
    "        elif choice == \"9\":\n",
    "            print(\"Exiting system. Goodbye!\")\n",
    "            break\n",
    "\n",
    "        else:\n",
    "            print(\"Invalid choice. Please try again.\")\n"
   ]
  },
  {
   "cell_type": "code",
   "execution_count": 77,
   "id": "0b494625-d4fd-43bc-8b9c-387730436aa9",
   "metadata": {},
   "outputs": [
    {
     "name": "stdout",
     "output_type": "stream",
     "text": [
      "\n",
      "--- Hospital Management System ---\n",
      "1. Add Patient\n",
      "2. View All Patients\n",
      "3. Search Patient by ID\n",
      "4. Sort Patients by Age\n",
      "5. Sort Patients by Name\n",
      "6. Binary Search Patient by Name\n",
      "7. Add Medical Record\n",
      "8. View Medical History\n",
      "9. Exit\n"
     ]
    },
    {
     "name": "stdin",
     "output_type": "stream",
     "text": [
      "Enter your choice (1-9):  1\n",
      "Enter Patient ID:  hadia\n",
      "Enter Name:  hadia batool\n",
      "Enter Age:  19\n",
      "Enter Disease:  migraine\n"
     ]
    },
    {
     "name": "stdout",
     "output_type": "stream",
     "text": [
      "Patient hadia batool added successfully.\n",
      "\n",
      "--- Hospital Management System ---\n",
      "1. Add Patient\n",
      "2. View All Patients\n",
      "3. Search Patient by ID\n",
      "4. Sort Patients by Age\n",
      "5. Sort Patients by Name\n",
      "6. Binary Search Patient by Name\n",
      "7. Add Medical Record\n",
      "8. View Medical History\n",
      "9. Exit\n"
     ]
    },
    {
     "name": "stdin",
     "output_type": "stream",
     "text": [
      "Enter your choice (1-9):  9\n"
     ]
    },
    {
     "name": "stdout",
     "output_type": "stream",
     "text": [
      "Exiting system. Goodbye!\n"
     ]
    }
   ],
   "source": [
    "main_menu()\n"
   ]
  },
  {
   "cell_type": "code",
   "execution_count": null,
   "id": "7bc7301a-a55b-4600-9253-81b629d88f84",
   "metadata": {},
   "outputs": [],
   "source": []
  }
 ],
 "metadata": {
  "kernelspec": {
   "display_name": "Python [conda env:base] *",
   "language": "python",
   "name": "conda-base-py"
  },
  "language_info": {
   "codemirror_mode": {
    "name": "ipython",
    "version": 3
   },
   "file_extension": ".py",
   "mimetype": "text/x-python",
   "name": "python",
   "nbconvert_exporter": "python",
   "pygments_lexer": "ipython3",
   "version": "3.12.7"
  }
 },
 "nbformat": 4,
 "nbformat_minor": 5
}
